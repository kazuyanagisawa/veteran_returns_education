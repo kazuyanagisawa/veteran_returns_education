{
 "cells": [
  {
   "cell_type": "code",
   "execution_count": 2,
   "id": "f8bead3f",
   "metadata": {},
   "outputs": [
    {
     "name": "stdout",
     "output_type": "stream",
     "text": [
      "Paths set:\n",
      "/Users/Kazu/Desktop/Tech_Portfolio/veteran_returns_education/data\n",
      "/Users/Kazu/Desktop/Tech_Portfolio/veteran_returns_education/outputs\n",
      "/Users/Kazu/Desktop/Tech_Portfolio/veteran_returns_education/outputs/figs\n",
      "/Users/Kazu/Desktop/Tech_Portfolio/veteran_returns_education/outputs/tables\n"
     ]
    }
   ],
   "source": [
    "import os\n",
    "from pathlib import Path\n",
    "import pandas as pd\n",
    "import numpy as np\n",
    "\n",
    "# Project paths\n",
    "ROOT = Path(\"/Users/Kazu/Desktop/Tech_Portfolio/veteran_returns_education\")\n",
    "DATA = ROOT / \"data\"\n",
    "OUT  = ROOT / \"outputs\"\n",
    "FIGS = OUT / \"figs\"\n",
    "TABLES = OUT / \"tables\"\n",
    "\n",
    "FIGS.mkdir(parents=True, exist_ok=True)\n",
    "TABLES.mkdir(parents=True, exist_ok=True)\n",
    "\n",
    "print(\"Paths set:\")\n",
    "print(DATA, OUT, FIGS, TABLES, sep=\"\\n\")"
   ]
  }
 ],
 "metadata": {
  "kernelspec": {
   "display_name": ".venv",
   "language": "python",
   "name": "python3"
  },
  "language_info": {
   "codemirror_mode": {
    "name": "ipython",
    "version": 3
   },
   "file_extension": ".py",
   "mimetype": "text/x-python",
   "name": "python",
   "nbconvert_exporter": "python",
   "pygments_lexer": "ipython3",
   "version": "3.13.0"
  }
 },
 "nbformat": 4,
 "nbformat_minor": 5
}
